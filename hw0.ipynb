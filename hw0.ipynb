{
 "cells": [
  {
   "cell_type": "code",
   "execution_count": 40,
   "metadata": {},
   "outputs": [],
   "source": [
    "import torch\n",
    "import torch.nn as nn\n",
    "from torch.utils.data.dataset import Dataset\n",
    "import numpy as np\n",
    "\n",
    "from sklearn.feature_extraction.text import CountVectorizer\n",
    "vectorizer=CountVectorizer()\n",
    "\n",
    "import pandas as pd\n",
    "pd.set_option('display.max_columns', None)"
   ]
  },
  {
   "cell_type": "code",
   "execution_count": 41,
   "metadata": {},
   "outputs": [],
   "source": [
    "class CustomDataset(Dataset):\n",
    "    def __init__(self, bows, labels):\n",
    "        device = torch.device('cuda' if torch.cuda.is_available() else 'cpu')\n",
    "        self.bows = bows\n",
    "        self.labels = torch.from_numpy(labels.to_numpy()).view(-1, 1).type(torch.FloatTensor).to(device)\n",
    "\n",
    "    def __getitem__(self, index):\n",
    "        device = torch.device('cuda' if torch.cuda.is_available() else 'cpu')\n",
    "        bow = self.bows[index].toarray()\n",
    "        bow = torch.from_numpy(bow).type(torch.FloatTensor).to(device).view(-1)\n",
    "        return bow, self.labels[index]\n",
    "\n",
    "    def __len__(self):\n",
    "        return len(self.labels)"
   ]
  },
  {
   "cell_type": "code",
   "execution_count": 61,
   "metadata": {
    "tags": []
   },
   "outputs": [
    {
     "output_type": "stream",
     "name": "stdout",
     "text": [
      "84370\n"
     ]
    }
   ],
   "source": []
  },
  {
   "cell_type": "code",
   "execution_count": 42,
   "metadata": {},
   "outputs": [],
   "source": [
    "raw_train = pd.read_csv('data/train.csv')\n",
    "raw_val = pd.read_csv('data/dev.csv')\n",
    "raw_test = pd.read_csv('data/test.csv')\n",
    "\n",
    "n_train = raw_train.shape[0]\n",
    "n_val = raw_val.shape[0]\n",
    "n_test = raw_test.shape[0]\n",
    "\n",
    "raw = pd.concat([raw_train, raw_val, raw_test])\n",
    "x_raw = vectorizer.fit_transform(raw['text'])\n",
    "x_train = x_raw[:n_train]\n",
    "x_val = x_raw[n_train : n_train + n_val]\n",
    "x_test = x_raw[n_train + n_val:]\n",
    "\n",
    "y_raw = raw['Category']\n",
    "y_train = y_raw[:n_train]\n",
    "y_val = y_raw[n_train : n_train + n_val]\n",
    "y_test = y_raw[n_train + n_val:]"
   ]
  },
  {
   "cell_type": "code",
   "execution_count": 43,
   "metadata": {},
   "outputs": [],
   "source": [
    "device = torch.device('cuda' if torch.cuda.is_available() else 'cpu')\n",
    "input_size = x_train.shape[1]\n",
    "hidden_size = 1000 \n",
    "num_classes = 1\n",
    "num_epochs = 5\n",
    "batch_size = 1000\n",
    "learning_rate = 0.001\n",
    "\n",
    "train_dataset = CustomDataset(x_train, y_train)\n",
    "train_loader = torch.utils.data.DataLoader(dataset=train_dataset, \n",
    "                                           batch_size=batch_size, \n",
    "                                           shuffle=True) \n",
    "\n",
    "val_dataset = CustomDataset(x_val, y_val)\n",
    "val_loader = torch.utils.data.DataLoader(dataset=val_dataset, \n",
    "                                           batch_size=batch_size, \n",
    "                                           shuffle=False) \n",
    "\n",
    "test_dataset = CustomDataset(x_test, y_test)\n",
    "test_loader = torch.utils.data.DataLoader(dataset=test_dataset, \n",
    "                                           batch_size=batch_size, \n",
    "                                           shuffle=False) "
   ]
  },
  {
   "cell_type": "code",
   "execution_count": 44,
   "metadata": {},
   "outputs": [],
   "source": [
    "class NeuralNet(nn.Module):\n",
    "    def __init__(self, input_size, hidden_size, num_classes):\n",
    "        super(NeuralNet, self).__init__()\n",
    "        self.input_size = input_size\n",
    "        self.l1 = nn.Linear(input_size, hidden_size) \n",
    "        #self.relu = nn.ReLU()\n",
    "        #self.l2 = nn.Linear(hidden_size, hidden_size)\n",
    "        self.relu = nn.ReLU()\n",
    "        self.l3 = nn.Linear(hidden_size, num_classes)\n",
    "        self.sigmoid = nn.Sigmoid()  \n",
    "    \n",
    "    def forward(self, x):\n",
    "        out = self.l1(x)\n",
    "        #out = self.relu(out)\n",
    "        #out = self.l2(out)\n",
    "        out = self.relu(out)\n",
    "        out = self.l3(out)\n",
    "        out = self.sigmoid(out)\n",
    "        return out"
   ]
  },
  {
   "cell_type": "code",
   "execution_count": null,
   "metadata": {
    "tags": [
     "outputPrepend"
    ]
   },
   "outputs": [],
   "source": []
  },
  {
   "cell_type": "code",
   "execution_count": 45,
   "metadata": {
    "tags": []
   },
   "outputs": [
    {
     "output_type": "stream",
     "name": "stdout",
     "text": [
      "Epoch [1/5], Step [10/80], Loss: 0.5236\n",
      "Epoch [1/5], Step [20/80], Loss: 0.4314\n",
      "Epoch [1/5], Step [30/80], Loss: 0.3641\n",
      "Epoch [1/5], Step [40/80], Loss: 0.3395\n",
      "Epoch [1/5], Step [50/80], Loss: 0.3355\n",
      "Epoch [1/5], Step [60/80], Loss: 0.3184\n",
      "Epoch [1/5], Step [70/80], Loss: 0.3165\n",
      "Epoch [1/5], Step [80/80], Loss: 0.3056\n",
      "Epoch [2/5], Step [10/80], Loss: 0.2722\n",
      "Epoch [2/5], Step [20/80], Loss: 0.2738\n",
      "Epoch [2/5], Step [30/80], Loss: 0.2370\n",
      "Epoch [2/5], Step [40/80], Loss: 0.2334\n",
      "Epoch [2/5], Step [50/80], Loss: 0.2386\n",
      "Epoch [2/5], Step [60/80], Loss: 0.2484\n",
      "Epoch [2/5], Step [70/80], Loss: 0.2526\n",
      "Epoch [2/5], Step [80/80], Loss: 0.3431\n",
      "Epoch [3/5], Step [10/80], Loss: 0.2120\n",
      "Epoch [3/5], Step [20/80], Loss: 0.1766\n",
      "Epoch [3/5], Step [30/80], Loss: 0.2890\n",
      "Epoch [3/5], Step [40/80], Loss: 0.1830\n",
      "Epoch [3/5], Step [50/80], Loss: 0.1960\n",
      "Epoch [3/5], Step [60/80], Loss: 0.2008\n",
      "Epoch [3/5], Step [70/80], Loss: 0.1942\n",
      "Epoch [3/5], Step [80/80], Loss: 0.1869\n",
      "Epoch [4/5], Step [10/80], Loss: 0.1498\n",
      "Epoch [4/5], Step [20/80], Loss: 0.1426\n",
      "Epoch [4/5], Step [30/80], Loss: 0.1650\n",
      "Epoch [4/5], Step [40/80], Loss: 0.1554\n",
      "Epoch [4/5], Step [50/80], Loss: 0.1635\n",
      "Epoch [4/5], Step [60/80], Loss: 0.1358\n",
      "Epoch [4/5], Step [70/80], Loss: 0.1613\n",
      "Epoch [4/5], Step [80/80], Loss: 0.1902\n",
      "Epoch [5/5], Step [10/80], Loss: 0.2376\n",
      "Epoch [5/5], Step [20/80], Loss: 0.1345\n",
      "Epoch [5/5], Step [30/80], Loss: 0.1535\n",
      "Epoch [5/5], Step [40/80], Loss: 0.1343\n",
      "Epoch [5/5], Step [50/80], Loss: 0.1278\n",
      "Epoch [5/5], Step [60/80], Loss: 0.1602\n",
      "Epoch [5/5], Step [70/80], Loss: 0.1476\n",
      "Epoch [5/5], Step [80/80], Loss: 0.1598\n"
     ]
    }
   ],
   "source": [
    "\n",
    "model = NeuralNet(input_size, hidden_size, num_classes).to(device)\n",
    "\n",
    "# Loss and optimizer\n",
    "criterion = nn.BCELoss()\n",
    "optimizer = torch.optim.Adam(model.parameters(), lr=learning_rate)  \n",
    "\n",
    "# Train the model\n",
    "n_total_steps = len(train_loader)\n",
    "for epoch in range(num_epochs):\n",
    "    for i, (bows, labels) in enumerate(train_loader): \n",
    "        # Forward pass\n",
    "        outputs = model(bows)\n",
    "        loss = criterion(outputs, labels)\n",
    "        \n",
    "        # Backward and optimize\n",
    "        optimizer.zero_grad()\n",
    "        loss.backward()\n",
    "        optimizer.step()\n",
    "        \n",
    "        if (i+1) % 10 == 0:\n",
    "            print (f'Epoch [{epoch+1}/{num_epochs}], Step [{i+1}/{n_total_steps}], Loss: {loss.item():.4f}')\n",
    "\n",
    "# Save the model\n",
    "torch.save(model, 'models/models2.pth')"
   ]
  },
  {
   "cell_type": "code",
   "execution_count": 46,
   "metadata": {
    "tags": []
   },
   "outputs": [
    {
     "output_type": "stream",
     "name": "stdout",
     "text": [
      "Accuracy of the network on train samples: 95.1175 %\n"
     ]
    }
   ],
   "source": [
    "with torch.no_grad():\n",
    "    n_correct = 0\n",
    "    n_samples = 0\n",
    "    for bow, labels in train_loader:\n",
    "        outputs = model(bow)\n",
    "        \n",
    "        # max returns (value ,index)\n",
    "        predicted = outputs.data.round()\n",
    "\n",
    "        n_samples += labels.size(0)\n",
    "        n_correct += (predicted == labels).sum().item()\n",
    "\n",
    "    acc = 100.0 * n_correct / n_samples\n",
    "    print(f'Accuracy of the network on train samples: {acc} %')"
   ]
  },
  {
   "cell_type": "code",
   "execution_count": 47,
   "metadata": {},
   "outputs": [
    {
     "output_type": "stream",
     "name": "stdout",
     "text": [
      "Accuracy of the network on val samples: 86.56 %\n"
     ]
    }
   ],
   "source": [
    "with torch.no_grad():\n",
    "    n_correct = 0\n",
    "    n_samples = 0\n",
    "    for bow, labels in val_loader:\n",
    "        outputs = model(bow)\n",
    "        \n",
    "        # max returns (value ,index)\n",
    "        predicted = outputs.data.round()\n",
    "\n",
    "        n_samples += labels.size(0)\n",
    "        n_correct += (predicted == labels).sum().item()\n",
    "\n",
    "    acc = 100.0 * n_correct / n_samples\n",
    "    print(f'Accuracy of the network on val samples: {acc} %')"
   ]
  },
  {
   "cell_type": "code",
   "execution_count": 48,
   "metadata": {},
   "outputs": [],
   "source": []
  },
  {
   "cell_type": "code",
   "execution_count": null,
   "metadata": {},
   "outputs": [],
   "source": []
  }
 ],
 "metadata": {
  "kernelspec": {
   "display_name": "Python 3",
   "language": "python",
   "name": "python3"
  },
  "language_info": {
   "codemirror_mode": {
    "name": "ipython",
    "version": 3
   },
   "file_extension": ".py",
   "mimetype": "text/x-python",
   "name": "python",
   "nbconvert_exporter": "python",
   "pygments_lexer": "ipython3",
   "version": "3.8.5-final"
  }
 },
 "nbformat": 4,
 "nbformat_minor": 4
}