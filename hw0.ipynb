{
 "cells": [
  {
   "cell_type": "code",
   "execution_count": 1,
   "metadata": {},
   "outputs": [],
   "source": [
    "import pandas as pd\n",
    "import torch\n",
    "pd.set_option('display.max_columns', None)\n",
    "from sklearn.feature_extraction.text import CountVectorizer"
   ]
  },
  {
   "cell_type": "code",
   "execution_count": 31,
   "metadata": {},
   "outputs": [],
   "source": [
    "import torch\n",
    "import torch.nn as nn\n",
    "import torchvision\n",
    "import torchvision.transforms as transforms\n",
    "import matplotlib.pyplot as plt\n",
    "import numpy as np"
   ]
  },
  {
   "cell_type": "code",
   "execution_count": 41,
   "metadata": {},
   "outputs": [
    {
     "output_type": "execute_result",
     "data": {
      "text/plain": [
       "                                                     Id  \\\n",
       "0     3315f3985676d832bd810d2e0ce2b1a6502217b8d20d77...   \n",
       "1     4e415a592aa116299a153284880455bfb3a99ce3eb19d2...   \n",
       "2     4d4aa86d03a489c1393059709a4d83476d53cc3c5c433b...   \n",
       "3     72e53ca9f2f496b9a96eac93b71220d321f0d8bf3870ba...   \n",
       "4     96a9ae0118126bff17e9b49fe0066e9a6583a64d5b5944...   \n",
       "...                                                 ...   \n",
       "9995  ece6ec73b5d728283801dc0fa9da39778b1d62f6386737...   \n",
       "9996  7e90d4b38f849053c42e6e4fde885150c08e1a75c9cca2...   \n",
       "9997  e5d9ba78a59df5f8c3603b50eff09aeadf74b78777928e...   \n",
       "9998  884ee2917dbfac1021bf0335b456ebcf8fbb3ef7f88b83...   \n",
       "9999  21c363ce5cca1c08e05a3c55fbb44031b02696f8b44c1f...   \n",
       "\n",
       "                                                   text  Category  \n",
       "0                                謝謝 今天 下大雨 還 借 我 傘 的 店家         1  \n",
       "1                                             我 真的 不 聰明         0  \n",
       "2     鑰匙 插 在 機車 上 忘記 拔起來 ， 再 想 起來 都 不 知道 過 了 多久   再 ...         1  \n",
       "3     今天 真是 太 兩光 了   下 公車 剛 逼完 悠遊卡 錢包 就 掉 了   還好 後面 ...         1  \n",
       "4     再 過 約莫 45 天   我 的 小家家 就 要 出生 了   老婆 辛苦 的 日子 也 ...         1  \n",
       "...                                                 ...       ...  \n",
       "9995                               教授 不 是 我 沒 去 而是 沒 時間         0  \n",
       "9996  快點 買 機票 來 台灣 找 我 玩   聽到 你 想要 來 台灣 我 真 快 開心 死 了...         1  \n",
       "9997                                   希望 我 的 腳 快 點 好 ~         1  \n",
       "9998  心 存 感恩   好運會 日 增   心懷 感謝 ， 福抱會 一 頁 又 一 頁   板主 ...         1  \n",
       "9999                                            天天 都 開心         1  \n",
       "\n",
       "[10000 rows x 3 columns]"
      ],
      "text/html": "<div>\n<style scoped>\n    .dataframe tbody tr th:only-of-type {\n        vertical-align: middle;\n    }\n\n    .dataframe tbody tr th {\n        vertical-align: top;\n    }\n\n    .dataframe thead th {\n        text-align: right;\n    }\n</style>\n<table border=\"1\" class=\"dataframe\">\n  <thead>\n    <tr style=\"text-align: right;\">\n      <th></th>\n      <th>Id</th>\n      <th>text</th>\n      <th>Category</th>\n    </tr>\n  </thead>\n  <tbody>\n    <tr>\n      <th>0</th>\n      <td>3315f3985676d832bd810d2e0ce2b1a6502217b8d20d77...</td>\n      <td>謝謝 今天 下大雨 還 借 我 傘 的 店家</td>\n      <td>1</td>\n    </tr>\n    <tr>\n      <th>1</th>\n      <td>4e415a592aa116299a153284880455bfb3a99ce3eb19d2...</td>\n      <td>我 真的 不 聰明</td>\n      <td>0</td>\n    </tr>\n    <tr>\n      <th>2</th>\n      <td>4d4aa86d03a489c1393059709a4d83476d53cc3c5c433b...</td>\n      <td>鑰匙 插 在 機車 上 忘記 拔起來 ， 再 想 起來 都 不 知道 過 了 多久   再 ...</td>\n      <td>1</td>\n    </tr>\n    <tr>\n      <th>3</th>\n      <td>72e53ca9f2f496b9a96eac93b71220d321f0d8bf3870ba...</td>\n      <td>今天 真是 太 兩光 了   下 公車 剛 逼完 悠遊卡 錢包 就 掉 了   還好 後面 ...</td>\n      <td>1</td>\n    </tr>\n    <tr>\n      <th>4</th>\n      <td>96a9ae0118126bff17e9b49fe0066e9a6583a64d5b5944...</td>\n      <td>再 過 約莫 45 天   我 的 小家家 就 要 出生 了   老婆 辛苦 的 日子 也 ...</td>\n      <td>1</td>\n    </tr>\n    <tr>\n      <th>...</th>\n      <td>...</td>\n      <td>...</td>\n      <td>...</td>\n    </tr>\n    <tr>\n      <th>9995</th>\n      <td>ece6ec73b5d728283801dc0fa9da39778b1d62f6386737...</td>\n      <td>教授 不 是 我 沒 去 而是 沒 時間</td>\n      <td>0</td>\n    </tr>\n    <tr>\n      <th>9996</th>\n      <td>7e90d4b38f849053c42e6e4fde885150c08e1a75c9cca2...</td>\n      <td>快點 買 機票 來 台灣 找 我 玩   聽到 你 想要 來 台灣 我 真 快 開心 死 了...</td>\n      <td>1</td>\n    </tr>\n    <tr>\n      <th>9997</th>\n      <td>e5d9ba78a59df5f8c3603b50eff09aeadf74b78777928e...</td>\n      <td>希望 我 的 腳 快 點 好 ~</td>\n      <td>1</td>\n    </tr>\n    <tr>\n      <th>9998</th>\n      <td>884ee2917dbfac1021bf0335b456ebcf8fbb3ef7f88b83...</td>\n      <td>心 存 感恩   好運會 日 增   心懷 感謝 ， 福抱會 一 頁 又 一 頁   板主 ...</td>\n      <td>1</td>\n    </tr>\n    <tr>\n      <th>9999</th>\n      <td>21c363ce5cca1c08e05a3c55fbb44031b02696f8b44c1f...</td>\n      <td>天天 都 開心</td>\n      <td>1</td>\n    </tr>\n  </tbody>\n</table>\n<p>10000 rows × 3 columns</p>\n</div>"
     },
     "metadata": {},
     "execution_count": 41
    }
   ],
   "source": [
    "df=pd.read_csv('dev.csv')\n",
    "a=df['text']\n",
    "vectorizer=CountVectorizer()\n",
    "x=vectorizer.fit_transform(a)\n",
    "x.toarray()\n",
    "print(type(x.toarray()))\n",
    "df"
   ]
  },
  {
   "cell_type": "code",
   "execution_count": 42,
   "metadata": {},
   "outputs": [
    {
     "output_type": "stream",
     "name": "stdout",
     "text": [
      "<class 'numpy.ndarray'>\n"
     ]
    },
    {
     "output_type": "execute_result",
     "data": {
      "text/plain": [
       "                                                      Id  \\\n",
       "0      f6d77ca7b407bec6f00d3b94c5b11907a8781b85661e0b...   \n",
       "1      a519e92b4570f3ef68482bb034ab6f26903aa913548aa4...   \n",
       "2      b2058b0cbbac5d6c80b28219d4b685f893bb2220a614fd...   \n",
       "3      3917286757d7a0ca1b3a4d89a887a40faa8b9523749d2c...   \n",
       "4      f047ccbe9c84987ea2e99b63727e1a2597bf80815b4c20...   \n",
       "...                                                  ...   \n",
       "79995  a49ea165f0529cf60747753e8a5fff85701de7a4182d47...   \n",
       "79996  f004bbd26a9a95c5e3f6d7721aa5210e102b95cffede8a...   \n",
       "79997  d3e78a80ee8a5c1721c67f56758d7d3ab0526688d7fb6f...   \n",
       "79998  e5a7e168d80650b4d5905545a1f5e8e7974a0ed477ba30...   \n",
       "79999  4b76936177df2fc26d74ddf6defb2b75d08db9c77f3c54...   \n",
       "\n",
       "                                                    text  Category  \n",
       "0                                            什麼 才 是 想要 的         0  \n",
       "1                                            應該 是 學姊 吧 ！         1  \n",
       "2      我 想要 瘦 啊   希望 能 趁 這 次 暑假 來 個 減肥 大計   祈禱 我 能 持之...         1  \n",
       "3                                順利 到 12月 底 完成 ！ ！ ！ ！ ！         1  \n",
       "4      在 感情 裡 付出 過 的 一切   就是 屬於 兩 人 永遠 的 記憶   別人 都 無法...         0  \n",
       "...                                                  ...       ...  \n",
       "79995                                            趕快 買 機車         1  \n",
       "79996                                           周末 不要 下雨         1  \n",
       "79997                                      讓 我 瘦身 成功 吧 !         1  \n",
       "79998  你 第幾 次 讓 我 這樣 心痛 了   口口 聲聲 說 我 是 你 很 重要 的 人   ...         0  \n",
       "79999                                               demo         1  \n",
       "\n",
       "[80000 rows x 3 columns]"
      ],
      "text/html": "<div>\n<style scoped>\n    .dataframe tbody tr th:only-of-type {\n        vertical-align: middle;\n    }\n\n    .dataframe tbody tr th {\n        vertical-align: top;\n    }\n\n    .dataframe thead th {\n        text-align: right;\n    }\n</style>\n<table border=\"1\" class=\"dataframe\">\n  <thead>\n    <tr style=\"text-align: right;\">\n      <th></th>\n      <th>Id</th>\n      <th>text</th>\n      <th>Category</th>\n    </tr>\n  </thead>\n  <tbody>\n    <tr>\n      <th>0</th>\n      <td>f6d77ca7b407bec6f00d3b94c5b11907a8781b85661e0b...</td>\n      <td>什麼 才 是 想要 的</td>\n      <td>0</td>\n    </tr>\n    <tr>\n      <th>1</th>\n      <td>a519e92b4570f3ef68482bb034ab6f26903aa913548aa4...</td>\n      <td>應該 是 學姊 吧 ！</td>\n      <td>1</td>\n    </tr>\n    <tr>\n      <th>2</th>\n      <td>b2058b0cbbac5d6c80b28219d4b685f893bb2220a614fd...</td>\n      <td>我 想要 瘦 啊   希望 能 趁 這 次 暑假 來 個 減肥 大計   祈禱 我 能 持之...</td>\n      <td>1</td>\n    </tr>\n    <tr>\n      <th>3</th>\n      <td>3917286757d7a0ca1b3a4d89a887a40faa8b9523749d2c...</td>\n      <td>順利 到 12月 底 完成 ！ ！ ！ ！ ！</td>\n      <td>1</td>\n    </tr>\n    <tr>\n      <th>4</th>\n      <td>f047ccbe9c84987ea2e99b63727e1a2597bf80815b4c20...</td>\n      <td>在 感情 裡 付出 過 的 一切   就是 屬於 兩 人 永遠 的 記憶   別人 都 無法...</td>\n      <td>0</td>\n    </tr>\n    <tr>\n      <th>...</th>\n      <td>...</td>\n      <td>...</td>\n      <td>...</td>\n    </tr>\n    <tr>\n      <th>79995</th>\n      <td>a49ea165f0529cf60747753e8a5fff85701de7a4182d47...</td>\n      <td>趕快 買 機車</td>\n      <td>1</td>\n    </tr>\n    <tr>\n      <th>79996</th>\n      <td>f004bbd26a9a95c5e3f6d7721aa5210e102b95cffede8a...</td>\n      <td>周末 不要 下雨</td>\n      <td>1</td>\n    </tr>\n    <tr>\n      <th>79997</th>\n      <td>d3e78a80ee8a5c1721c67f56758d7d3ab0526688d7fb6f...</td>\n      <td>讓 我 瘦身 成功 吧 !</td>\n      <td>1</td>\n    </tr>\n    <tr>\n      <th>79998</th>\n      <td>e5a7e168d80650b4d5905545a1f5e8e7974a0ed477ba30...</td>\n      <td>你 第幾 次 讓 我 這樣 心痛 了   口口 聲聲 說 我 是 你 很 重要 的 人   ...</td>\n      <td>0</td>\n    </tr>\n    <tr>\n      <th>79999</th>\n      <td>4b76936177df2fc26d74ddf6defb2b75d08db9c77f3c54...</td>\n      <td>demo</td>\n      <td>1</td>\n    </tr>\n  </tbody>\n</table>\n<p>80000 rows × 3 columns</p>\n</div>"
     },
     "metadata": {},
     "execution_count": 42
    }
   ],
   "source": [
    "df=pd.read_csv('train.csv')\n",
    "a=df['text']\n",
    "vectorizer=CountVectorizer()\n",
    "x=vectorizer.fit_transform(a)\n",
    "x.toarray()\n",
    "print(type(x.toarray()))\n",
    "df"
   ]
  },
  {
   "cell_type": "code",
   "execution_count": 43,
   "metadata": {},
   "outputs": [],
   "source": [
    "train_x = torch.from_numpy(x.toarray())\n",
    "train_y = torch.from_numpy(df['Category'].to_numpy())\n",
    "train_y = train_y.view(-1, 1)\n",
    "train_y = train_y.type(torch.FloatTensor)\n",
    "train_x = train_x.type(torch.FloatTensor)\n",
    "\n",
    "train_dataset=torch.utils.data.TensorDataset(train_x, train_y)\n",
    "train_loader = torch.utils.data.DataLoader(dataset=train_dataset, \n",
    "                                           batch_size=batch_size, \n",
    "                                           shuffle=True)                "
   ]
  },
  {
   "cell_type": "code",
   "execution_count": 46,
   "metadata": {
    "tags": []
   },
   "outputs": [
    {
     "output_type": "stream",
     "name": "stdout",
     "text": [
      "Epoch [1/10], Step [100/800], Loss: 0.3858\n",
      "Epoch [1/10], Step [200/800], Loss: 0.2924\n",
      "Epoch [1/10], Step [300/800], Loss: 0.2355\n",
      "Epoch [1/10], Step [400/800], Loss: 0.2951\n",
      "Epoch [1/10], Step [500/800], Loss: 0.2639\n",
      "Epoch [1/10], Step [600/800], Loss: 0.3704\n",
      "Epoch [1/10], Step [700/800], Loss: 0.2434\n",
      "Epoch [1/10], Step [800/800], Loss: 0.2638\n",
      "Epoch [2/10], Step [100/800], Loss: 0.1453\n",
      "Epoch [2/10], Step [200/800], Loss: 0.1308\n",
      "Epoch [2/10], Step [300/800], Loss: 0.1592\n",
      "Epoch [2/10], Step [400/800], Loss: 0.1797\n",
      "Epoch [2/10], Step [500/800], Loss: 0.2290\n",
      "Epoch [2/10], Step [600/800], Loss: 0.1510\n",
      "Epoch [2/10], Step [700/800], Loss: 0.1655\n",
      "Epoch [2/10], Step [800/800], Loss: 0.2726\n"
     ]
    },
    {
     "output_type": "error",
     "ename": "KeyboardInterrupt",
     "evalue": "",
     "traceback": [
      "\u001b[0;31m---------------------------------------------------------------------------\u001b[0m",
      "\u001b[0;31mKeyboardInterrupt\u001b[0m                         Traceback (most recent call last)",
      "\u001b[0;32m<ipython-input-46-054ea09d2c82>\u001b[0m in \u001b[0;36m<module>\u001b[0;34m\u001b[0m\n\u001b[1;32m     50\u001b[0m         \u001b[0;31m# Backward and optimize\u001b[0m\u001b[0;34m\u001b[0m\u001b[0;34m\u001b[0m\u001b[0;34m\u001b[0m\u001b[0m\n\u001b[1;32m     51\u001b[0m         \u001b[0moptimizer\u001b[0m\u001b[0;34m.\u001b[0m\u001b[0mzero_grad\u001b[0m\u001b[0;34m(\u001b[0m\u001b[0;34m)\u001b[0m\u001b[0;34m\u001b[0m\u001b[0;34m\u001b[0m\u001b[0m\n\u001b[0;32m---> 52\u001b[0;31m         \u001b[0mloss\u001b[0m\u001b[0;34m.\u001b[0m\u001b[0mbackward\u001b[0m\u001b[0;34m(\u001b[0m\u001b[0;34m)\u001b[0m\u001b[0;34m\u001b[0m\u001b[0;34m\u001b[0m\u001b[0m\n\u001b[0m\u001b[1;32m     53\u001b[0m         \u001b[0moptimizer\u001b[0m\u001b[0;34m.\u001b[0m\u001b[0mstep\u001b[0m\u001b[0;34m(\u001b[0m\u001b[0;34m)\u001b[0m\u001b[0;34m\u001b[0m\u001b[0;34m\u001b[0m\u001b[0m\n\u001b[1;32m     54\u001b[0m \u001b[0;34m\u001b[0m\u001b[0m\n",
      "\u001b[0;32m/opt/anaconda3/lib/python3.8/site-packages/torch/tensor.py\u001b[0m in \u001b[0;36mbackward\u001b[0;34m(self, gradient, retain_graph, create_graph)\u001b[0m\n\u001b[1;32m    219\u001b[0m                 \u001b[0mretain_graph\u001b[0m\u001b[0;34m=\u001b[0m\u001b[0mretain_graph\u001b[0m\u001b[0;34m,\u001b[0m\u001b[0;34m\u001b[0m\u001b[0;34m\u001b[0m\u001b[0m\n\u001b[1;32m    220\u001b[0m                 create_graph=create_graph)\n\u001b[0;32m--> 221\u001b[0;31m         \u001b[0mtorch\u001b[0m\u001b[0;34m.\u001b[0m\u001b[0mautograd\u001b[0m\u001b[0;34m.\u001b[0m\u001b[0mbackward\u001b[0m\u001b[0;34m(\u001b[0m\u001b[0mself\u001b[0m\u001b[0;34m,\u001b[0m \u001b[0mgradient\u001b[0m\u001b[0;34m,\u001b[0m \u001b[0mretain_graph\u001b[0m\u001b[0;34m,\u001b[0m \u001b[0mcreate_graph\u001b[0m\u001b[0;34m)\u001b[0m\u001b[0;34m\u001b[0m\u001b[0;34m\u001b[0m\u001b[0m\n\u001b[0m\u001b[1;32m    222\u001b[0m \u001b[0;34m\u001b[0m\u001b[0m\n\u001b[1;32m    223\u001b[0m     \u001b[0;32mdef\u001b[0m \u001b[0mregister_hook\u001b[0m\u001b[0;34m(\u001b[0m\u001b[0mself\u001b[0m\u001b[0;34m,\u001b[0m \u001b[0mhook\u001b[0m\u001b[0;34m)\u001b[0m\u001b[0;34m:\u001b[0m\u001b[0;34m\u001b[0m\u001b[0;34m\u001b[0m\u001b[0m\n",
      "\u001b[0;32m/opt/anaconda3/lib/python3.8/site-packages/torch/autograd/__init__.py\u001b[0m in \u001b[0;36mbackward\u001b[0;34m(tensors, grad_tensors, retain_graph, create_graph, grad_variables)\u001b[0m\n\u001b[1;32m    128\u001b[0m         \u001b[0mretain_graph\u001b[0m \u001b[0;34m=\u001b[0m \u001b[0mcreate_graph\u001b[0m\u001b[0;34m\u001b[0m\u001b[0;34m\u001b[0m\u001b[0m\n\u001b[1;32m    129\u001b[0m \u001b[0;34m\u001b[0m\u001b[0m\n\u001b[0;32m--> 130\u001b[0;31m     Variable._execution_engine.run_backward(\n\u001b[0m\u001b[1;32m    131\u001b[0m         \u001b[0mtensors\u001b[0m\u001b[0;34m,\u001b[0m \u001b[0mgrad_tensors_\u001b[0m\u001b[0;34m,\u001b[0m \u001b[0mretain_graph\u001b[0m\u001b[0;34m,\u001b[0m \u001b[0mcreate_graph\u001b[0m\u001b[0;34m,\u001b[0m\u001b[0;34m\u001b[0m\u001b[0;34m\u001b[0m\u001b[0m\n\u001b[1;32m    132\u001b[0m         allow_unreachable=True)  # allow_unreachable flag\n",
      "\u001b[0;31mKeyboardInterrupt\u001b[0m: "
     ]
    }
   ],
   "source": [
    "device = torch.device('cuda' if torch.cuda.is_available() else 'cpu')\n",
    "\n",
    "input_size = train_x.shape[1] # 28x28\n",
    "hidden_size = 500 \n",
    "num_classes = 1\n",
    "num_epochs = 10\n",
    "batch_size = 100\n",
    "learning_rate = 0.001\n",
    "\n",
    "class NeuralNet(nn.Module):\n",
    "    def __init__(self, input_size, hidden_size, num_classes):\n",
    "        super(NeuralNet, self).__init__()\n",
    "        self.input_size = input_size\n",
    "        self.l1 = nn.Linear(input_size, hidden_size) \n",
    "        self.relu = nn.ReLU()\n",
    "        self.l2 = nn.Linear(hidden_size, hidden_size)\n",
    "        self.relu = nn.ReLU()\n",
    "        self.l3 = nn.Linear(hidden_size, num_classes)\n",
    "        self.sigmoid = nn.Sigmoid()  \n",
    "    \n",
    "    def forward(self, x):\n",
    "        out = self.l1(x)\n",
    "        out = self.relu(out)\n",
    "        out = self.l2(out)\n",
    "        out = self.relu(out)\n",
    "        out = self.l3(out)\n",
    "        out = self.sigmoid(out)\n",
    "        # no activation and no softmax at the end\n",
    "        return out\n",
    "\n",
    "model = NeuralNet(input_size, hidden_size, num_classes).to(device)\n",
    "\n",
    "# Loss and optimizer\n",
    "criterion = nn.BCELoss()\n",
    "optimizer = torch.optim.Adam(model.parameters(), lr=learning_rate)  \n",
    "\n",
    "# Train the model\n",
    "n_total_steps = len(train_loader)\n",
    "for epoch in range(num_epochs):\n",
    "    for i, (images, labels) in enumerate(train_loader):  \n",
    "        # origin shape: [100, 1, 28, 28]\n",
    "        # resized: [100, 784]\n",
    "        images = images.to(device)\n",
    "        labels = labels.to(device)\n",
    "\n",
    "        # Forward pass\n",
    "        outputs = model(images)\n",
    "        loss = criterion(outputs, labels)\n",
    "        \n",
    "        # Backward and optimize\n",
    "        optimizer.zero_grad()\n",
    "        loss.backward()\n",
    "        optimizer.step()\n",
    "        \n",
    "        if (i+1) % 100 == 0:\n",
    "            print (f'Epoch [{epoch+1}/{num_epochs}], Step [{i+1}/{n_total_steps}], Loss: {loss.item():.4f}')"
   ]
  },
  {
   "cell_type": "code",
   "execution_count": 48,
   "metadata": {
    "tags": []
   },
   "outputs": [
    {
     "output_type": "stream",
     "name": "stdout",
     "text": [
      "Accuracy of the network on the 10000 test images: 95.34 %\n"
     ]
    }
   ],
   "source": [
    "with torch.no_grad():\n",
    "    n_correct = 0\n",
    "    n_samples = 0\n",
    "    for images, labels in train_loader:\n",
    "        images = images.to(device)\n",
    "        labels = labels.to(device)\n",
    "        outputs = model(images)\n",
    "        # max returns (value ,index)\n",
    "        predicted = outputs.data.round()\n",
    "\n",
    "        n_samples += labels.size(0)\n",
    "        n_correct += (predicted == labels).sum().item()\n",
    "\n",
    "    acc = 100.0 * n_correct / n_samples\n",
    "    print(f'Accuracy of the network on the 10000 test images: {acc} %')"
   ]
  },
  {
   "cell_type": "code",
   "execution_count": null,
   "metadata": {},
   "outputs": [],
   "source": []
  }
 ],
 "metadata": {
  "kernelspec": {
   "display_name": "Python 3",
   "language": "python",
   "name": "python3"
  },
  "language_info": {
   "codemirror_mode": {
    "name": "ipython",
    "version": 3
   },
   "file_extension": ".py",
   "mimetype": "text/x-python",
   "name": "python",
   "nbconvert_exporter": "python",
   "pygments_lexer": "ipython3",
   "version": "3.8.5-final"
  }
 },
 "nbformat": 4,
 "nbformat_minor": 4
}